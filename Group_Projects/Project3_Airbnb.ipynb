{
 "cells": [
  {
   "cell_type": "markdown",
   "metadata": {},
   "source": [
    "# Project 3: Airbnb\n",
    "**This is the third of three mandatory projects to be handed in as part of the assessment for the course 02807 Computational Tools for Data Science at Technical University of Denmark, autumn 2019.**\n",
    "\n",
    "#### Practical info\n",
    "- **The project is to be done in groups of at most 3 students**\n",
    "- **Each group has to hand in _one_ Jupyter notebook (this notebook) with their solution**\n",
    "- **The hand-in of the notebook is due 2019-12-05, 23:59 on DTU Inside**\n",
    "\n",
    "#### Your solution\n",
    "- **Your solution should be in Python/PySpark**\n",
    "- **For each question you may use as many cells for your solution as you like**\n",
    "- **You should not remove the problem statements**\n",
    "- **Your notebook should be runnable, i.e., clicking [>>] in Jupyter should generate the result that you want to be assessed**\n",
    "- **You are not expected to use machine learning to solve any of the exercises**"
   ]
  },
  {
   "cell_type": "markdown",
   "metadata": {},
   "source": [
    "# Introduction\n",
    "[Airbnb](http://airbnb.com) is an online marketplace for arranging or offering lodgings. In this project you will use Spark to analyze data obtained from the Airbnb website. The purpose of the analysis is to extract information about trends and patterns from the data.\n",
    "\n",
    "The project has two parts.\n",
    "\n",
    "### Part 1: Loading, describing and preparing the data\n",
    "There's quite a lot of data. Make sure that you can load and correctly parse the data, and that you understand what the dataset contains. You should also prepare the data for the analysis in part two. This means cleaning it and staging it so that subsequent queries are fast.\n",
    "\n",
    "### Par 2: Analysis\n",
    "In this part your goal is to learn about trends and usage patterns from the data. You should give solutions to the tasks defined in this notebook, and you should use Spark to do the data processing. You may use other libraries like for instance Pandas and matplotlib for visualisation.\n",
    "\n",
    "## Guidelines\n",
    "- Processing data should be done using Spark. Once data has been reduced to aggregate form, you may use collect to extract it into Python for visualisation.\n",
    "- Your solutions will be evaluated by correctness, code quality and interpretability of the output. This means that you have to write clean and efficient Spark code that will generate sensible execution plans, and that the tables and visualisations that you produce are meaningful and easy to read.\n",
    "- You may add more cells for your solutions, but you should not modify the notebook otherwise."
   ]
  },
  {
   "cell_type": "markdown",
   "metadata": {},
   "source": [
    "### Create Spark session and define imports"
   ]
  },
  {
   "cell_type": "code",
   "execution_count": 1,
   "metadata": {},
   "outputs": [],
   "source": [
    "from pyspark.sql import *\n",
    "from pyspark.sql import functions as f\n",
    "from pyspark.sql.types import *\n",
    "\n",
    "spark = SparkSession.builder.appName(\"Project3\").getOrCreate()"
   ]
  },
  {
   "cell_type": "markdown",
   "metadata": {},
   "source": [
    "# Part 1: Loading, describing and preparing the data\n",
    "The data comes in two files. Start by downloading the files and putting them in your `data/` folder.\n",
    "\n",
    "- [Listings](https://files.dtu.dk/u/siPzAasj8w2gI_ME/listings.csv?l) (5 GB)\n",
    "- [Reviews](https://files.dtu.dk/u/k3oaPYp6GjKBeho4/reviews.csv?l) (9.5 GB)"
   ]
  },
  {
   "cell_type": "markdown",
   "metadata": {},
   "source": [
    "### Load the data\n",
    "The data has multiline rows (rows that span multiple lines in the file). To correctly parse these you should use the `multiline` option and set the `escape` character to be `\"`."
   ]
  },
  {
   "cell_type": "markdown",
   "metadata": {},
   "source": [
    "To load the data, we firstly took a look at it to see if we had to add any option besides the one indicated.\n",
    "Then we loaded the two files in two different dataframes, using the options that we had agreed upon."
   ]
  },
  {
   "cell_type": "code",
   "execution_count": 4,
   "metadata": {},
   "outputs": [],
   "source": [
    "listings = spark.read.option('header', True).option('delimiter', ',').option('inferSchema', False)\\\n",
    "            .option('multiline', True).option('escape','\"').csv('/Users/enriqueqs/Docker/work/data/listings.csv')\n",
    "reviews = spark.read.option('header', True).option('delimiter', ',').option('inferSchema', False)\\\n",
    "            .option('multiline', True).option(\"escape\",'\"').csv('/Users/enriqueqs/Docker/work/data/reviews.csv')"
   ]
  },
  {
   "cell_type": "markdown",
   "metadata": {},
   "source": [
    "---\n",
    "\n",
    "### Describe the data\n",
    "List the features (schema) and sizes of the datasets."
   ]
  },
  {
   "cell_type": "markdown",
   "metadata": {},
   "source": [
    "First, we describe the *listings* dataset:"
   ]
  },
  {
   "cell_type": "code",
   "execution_count": 5,
   "metadata": {},
   "outputs": [
    {
     "name": "stdout",
     "output_type": "stream",
     "text": [
      "root\n",
      " |-- id: string (nullable = true)\n",
      " |-- listing_url: string (nullable = true)\n",
      " |-- scrape_id: string (nullable = true)\n",
      " |-- last_scraped: string (nullable = true)\n",
      " |-- name: string (nullable = true)\n",
      " |-- summary: string (nullable = true)\n",
      " |-- space: string (nullable = true)\n",
      " |-- description: string (nullable = true)\n",
      " |-- experiences_offered: string (nullable = true)\n",
      " |-- neighborhood_overview: string (nullable = true)\n",
      " |-- notes: string (nullable = true)\n",
      " |-- transit: string (nullable = true)\n",
      " |-- access: string (nullable = true)\n",
      " |-- interaction: string (nullable = true)\n",
      " |-- house_rules: string (nullable = true)\n",
      " |-- thumbnail_url: string (nullable = true)\n",
      " |-- medium_url: string (nullable = true)\n",
      " |-- picture_url: string (nullable = true)\n",
      " |-- xl_picture_url: string (nullable = true)\n",
      " |-- host_id: string (nullable = true)\n",
      " |-- host_url: string (nullable = true)\n",
      " |-- host_name: string (nullable = true)\n",
      " |-- host_since: string (nullable = true)\n",
      " |-- host_location: string (nullable = true)\n",
      " |-- host_about: string (nullable = true)\n",
      " |-- host_response_time: string (nullable = true)\n",
      " |-- host_response_rate: string (nullable = true)\n",
      " |-- host_acceptance_rate: string (nullable = true)\n",
      " |-- host_is_superhost: string (nullable = true)\n",
      " |-- host_thumbnail_url: string (nullable = true)\n",
      " |-- host_picture_url: string (nullable = true)\n",
      " |-- host_neighbourhood: string (nullable = true)\n",
      " |-- host_listings_count: string (nullable = true)\n",
      " |-- host_total_listings_count: string (nullable = true)\n",
      " |-- host_verifications: string (nullable = true)\n",
      " |-- host_has_profile_pic: string (nullable = true)\n",
      " |-- host_identity_verified: string (nullable = true)\n",
      " |-- street: string (nullable = true)\n",
      " |-- neighbourhood: string (nullable = true)\n",
      " |-- neighbourhood_cleansed: string (nullable = true)\n",
      " |-- neighbourhood_group_cleansed: string (nullable = true)\n",
      " |-- city: string (nullable = true)\n",
      " |-- state: string (nullable = true)\n",
      " |-- zipcode: string (nullable = true)\n",
      " |-- market: string (nullable = true)\n",
      " |-- smart_location: string (nullable = true)\n",
      " |-- country_code: string (nullable = true)\n",
      " |-- country: string (nullable = true)\n",
      " |-- latitude: string (nullable = true)\n",
      " |-- longitude: string (nullable = true)\n",
      " |-- is_location_exact: string (nullable = true)\n",
      " |-- property_type: string (nullable = true)\n",
      " |-- room_type: string (nullable = true)\n",
      " |-- accommodates: string (nullable = true)\n",
      " |-- bathrooms: string (nullable = true)\n",
      " |-- bedrooms: string (nullable = true)\n",
      " |-- beds: string (nullable = true)\n",
      " |-- bed_type: string (nullable = true)\n",
      " |-- amenities: string (nullable = true)\n",
      " |-- square_feet: string (nullable = true)\n",
      " |-- price: string (nullable = true)\n",
      " |-- weekly_price: string (nullable = true)\n",
      " |-- monthly_price: string (nullable = true)\n",
      " |-- security_deposit: string (nullable = true)\n",
      " |-- cleaning_fee: string (nullable = true)\n",
      " |-- guests_included: string (nullable = true)\n",
      " |-- extra_people: string (nullable = true)\n",
      " |-- minimum_nights: string (nullable = true)\n",
      " |-- maximum_nights: string (nullable = true)\n",
      " |-- minimum_minimum_nights: string (nullable = true)\n",
      " |-- maximum_minimum_nights: string (nullable = true)\n",
      " |-- minimum_maximum_nights: string (nullable = true)\n",
      " |-- maximum_maximum_nights: string (nullable = true)\n",
      " |-- minimum_nights_avg_ntm: string (nullable = true)\n",
      " |-- maximum_nights_avg_ntm: string (nullable = true)\n",
      " |-- calendar_updated: string (nullable = true)\n",
      " |-- has_availability: string (nullable = true)\n",
      " |-- availability_30: string (nullable = true)\n",
      " |-- availability_60: string (nullable = true)\n",
      " |-- availability_90: string (nullable = true)\n",
      " |-- availability_365: string (nullable = true)\n",
      " |-- calendar_last_scraped: string (nullable = true)\n",
      " |-- number_of_reviews: string (nullable = true)\n",
      " |-- number_of_reviews_ltm: string (nullable = true)\n",
      " |-- first_review: string (nullable = true)\n",
      " |-- last_review: string (nullable = true)\n",
      " |-- review_scores_rating: string (nullable = true)\n",
      " |-- review_scores_accuracy: string (nullable = true)\n",
      " |-- review_scores_cleanliness: string (nullable = true)\n",
      " |-- review_scores_checkin: string (nullable = true)\n",
      " |-- review_scores_communication: string (nullable = true)\n",
      " |-- review_scores_location: string (nullable = true)\n",
      " |-- review_scores_value: string (nullable = true)\n",
      " |-- requires_license: string (nullable = true)\n",
      " |-- license: string (nullable = true)\n",
      " |-- jurisdiction_names: string (nullable = true)\n",
      " |-- instant_bookable: string (nullable = true)\n",
      " |-- is_business_travel_ready: string (nullable = true)\n",
      " |-- cancellation_policy: string (nullable = true)\n",
      " |-- require_guest_profile_picture: string (nullable = true)\n",
      " |-- require_guest_phone_verification: string (nullable = true)\n",
      " |-- calculated_host_listings_count: string (nullable = true)\n",
      " |-- calculated_host_listings_count_entire_homes: string (nullable = true)\n",
      " |-- calculated_host_listings_count_private_rooms: string (nullable = true)\n",
      " |-- calculated_host_listings_count_shared_rooms: string (nullable = true)\n",
      " |-- reviews_per_month: string (nullable = true)\n",
      "\n"
     ]
    }
   ],
   "source": [
    "listings.printSchema()"
   ]
  },
  {
   "cell_type": "markdown",
   "metadata": {},
   "source": [
    "Apart from the fact that there are a lot of columns, we noticed that some of them were redondant, and we would see later in the project that most of them are not useful.\n",
    "\n",
    "---\n",
    "\n",
    "We then describe the *reviews* dataset:"
   ]
  },
  {
   "cell_type": "code",
   "execution_count": 6,
   "metadata": {},
   "outputs": [
    {
     "name": "stdout",
     "output_type": "stream",
     "text": [
      "root\n",
      " |-- listing_id: string (nullable = true)\n",
      " |-- id: string (nullable = true)\n",
      " |-- date: string (nullable = true)\n",
      " |-- reviewer_id: string (nullable = true)\n",
      " |-- reviewer_name: string (nullable = true)\n",
      " |-- comments: string (nullable = true)\n",
      "\n"
     ]
    }
   ],
   "source": [
    "reviews.printSchema()"
   ]
  },
  {
   "cell_type": "markdown",
   "metadata": {},
   "source": [
    "The *reviews* dataset is much more compact, and we could guess that most the columns would be useful just by looking at their names."
   ]
  },
  {
   "cell_type": "markdown",
   "metadata": {},
   "source": [
    "### Prepare the data for analysis\n",
    "You should prepare two dataframes to be used in the analysis part of the project. You should not be concerned with cleaning the data. There's a lot of it, so it will be sufficient to drop rows that have bad values. You may want to go back and refine this step at a later point when doing the analysis.\n",
    "\n",
    "You may also want to consider if you can stage your data so that subsequent processing is more efficient (this is not strictly necessary for Spark to run, but you may be able to decrease the time you sit around waiting for Spark to finish things)."
   ]
  },
  {
   "cell_type": "markdown",
   "metadata": {},
   "source": [
    "To make our work more efficient and spend less time sitting around, we firstly set up a new repartition of our files.\n",
    "By trying different values, we found that for our computers and these files, splitting the file in 12 was a good solution."
   ]
  },
  {
   "cell_type": "code",
   "execution_count": 7,
   "metadata": {},
   "outputs": [],
   "source": [
    "listings_rep=listings.repartition(12)\n",
    "reviews_rep=reviews.repartition(100)\n",
    "reviews_sample = reviews_rep.sample(False, 0.1,111).cache()"
   ]
  },
  {
   "cell_type": "markdown",
   "metadata": {},
   "source": [
    "The following part was written at the end of the project, when we knew which column we would use, for better readability:"
   ]
  },
  {
   "cell_type": "code",
   "execution_count": 6,
   "metadata": {},
   "outputs": [
    {
     "data": {
      "text/plain": [
       "DataFrame[id: string, name: string, space: string, description: string, host_id: string, neighbourhood: string, neighbourhood_cleansed: string, neighbourhood_group_cleansed: string, city: string, state: string, zipcode: string, property_type: string, room_type: string, accommodates: string, bathrooms: string, bedrooms: string, beds: string, square_feet: string, price: string, weekly_price: string, monthly_price: string, number_of_reviews: string, number_of_reviews_ltm: string, review_scores_rating: string, review_scores_value: string]"
      ]
     },
     "execution_count": 6,
     "metadata": {},
     "output_type": "execute_result"
    }
   ],
   "source": [
    "listings_rep.drop('listing_url','scrape_id','last_scraped','summary','experiences_offered','neighborhood_overview',\n",
    "                  'notes','transit','access','interaction','house_rules','thumbnail_url','medium_url','picture_url',\n",
    "                  'xl_picture_url', 'host_url','host_name','host_since','host_location','host_about','host_response_time',\n",
    "                 'host_response_rate','host_acceptance_rate','host_is_superhost', 'host_thumbnail_url', 'host_picture_url',\n",
    "                 'host_neighbourhood', 'host_listings_count', 'host_total_listings_count', 'host_verifications', 'host_has_profile_pic',\n",
    "                  'host_identity_verified', 'street', 'market', 'smart_location', 'country_code', 'country', 'latitude', 'longitude',\n",
    "                  'is_location_exact', 'bed_type', 'amenities', 'security_deposit', 'cleaning_fee', 'guests_included', \n",
    "                  'extra_people', 'minimum_nights', 'maximum_nights', 'minimum_minimum_nights', 'maximum_minimum_nights',\n",
    "                  'minimum_maximum_nights', 'maximum_maximum_nights', 'minimum_nights_avg_ntm', 'maximum_nights_avg_ntm',\n",
    "                  'calendar_updated', 'has_availability', 'availability_30', 'availability_60', 'availability_90',\n",
    "                  'availability_365', 'calendar_last_scraped', 'first_review', 'last_review', 'review_scores_accuracy',\n",
    "                  'review_scores_cleanliness', 'review_scores_checkin', 'review_scores_communication', 'review_scores_location',\n",
    "                'requires_license', 'license', 'jurisdiction_names', 'instant_bookable', 'is_business_travel_ready', \n",
    "                  'cancellation_policy', 'require_guest_profile_picture', 'require_guest_phone_verification', 'calculated_host_listings_count',\n",
    "                  'calculated_host_listings_count_entire_homes', 'calculated_host_listings_count_private_rooms',\n",
    "                  'calculated_host_listings_count_shared_rooms', 'reviews_per_month')"
   ]
  },
  {
   "cell_type": "markdown",
   "metadata": {},
   "source": [
    "As the data set was large enough to disregard the bad values, we simply drop all the na values:"
   ]
  },
  {
   "cell_type": "code",
   "execution_count": 7,
   "metadata": {},
   "outputs": [
    {
     "data": {
      "text/plain": [
       "DataFrame[listing_id: string, id: string, date: string, reviewer_id: string, reviewer_name: string, comments: string]"
      ]
     },
     "execution_count": 7,
     "metadata": {},
     "output_type": "execute_result"
    }
   ],
   "source": [
    "listings_rep.dropna()\n",
    "listings_rep.na.drop()\n",
    "\n",
    "reviews_rep.dropna()\n",
    "reviews_rep.na.drop()"
   ]
  },
  {
   "cell_type": "markdown",
   "metadata": {},
   "source": [
    "After doing all this, we thought that we could dive straight into the analysis."
   ]
  },
  {
   "cell_type": "markdown",
   "metadata": {},
   "source": [
    "# Part 2: Analysis\n",
    "Use Spark and your favorite tool for data visualization to solve the following tasks.\n",
    "\n",
    "## The basics\n",
    "Compute and show a dataframe with the number of listings and neighbourhoods per city..\n"
   ]
  },
  {
   "cell_type": "markdown",
   "metadata": {},
   "source": [
    "As the title of this part sugests, it is pretty straight forward and, except renaming the columns for readability purpose, we strictly do what is asked : show the listings dataframe with the number of listings and neighbourhoods per city:"
   ]
  },
  {
   "cell_type": "code",
   "execution_count": 8,
   "metadata": {},
   "outputs": [],
   "source": [
    "citynl = listings_rep.groupBy('city').agg(f.countDistinct('neighbourhood_cleansed')\\\n",
    "        .alias('count_neighourhood'), f.countDistinct('id').alias('listings'))\\\n",
    "        .orderBy(f.desc('listings'))"
   ]
  },
  {
   "cell_type": "code",
   "execution_count": 9,
   "metadata": {},
   "outputs": [
    {
     "name": "stdout",
     "output_type": "stream",
     "text": [
      "+-----------------+------------------+--------+\n",
      "|             city|count_neighourhood|listings|\n",
      "+-----------------+------------------+--------+\n",
      "|            Paris|                20|   17416|\n",
      "|   Greater London|                33|   15946|\n",
      "|          Beijing|                16|   14445|\n",
      "|   Rio de Janeiro|               142|   10161|\n",
      "|           London|                32|    9519|\n",
      "|        Cape Town|                80|    8503|\n",
      "|      Los Angeles|               129|    7325|\n",
      "|             Roma|                16|    6949|\n",
      "|           Madrid|               126|    6219|\n",
      "|         New York|                77|    6119|\n",
      "|           Berlin|               134|    6033|\n",
      "|        Barcelona|                73|    5719|\n",
      "|Ciudad de MÃ©xico|                16|    5709|\n",
      "|           Milano|                81|    5473|\n",
      "|          Toronto|               138|    5419|\n",
      "|         Brooklyn|                52|    5097|\n",
      "|       KÃ¸benhavn|                11|    4958|\n",
      "|        MontrÃ©al|                23|    4448|\n",
      "|         MÃ¼nchen|                25|    4218|\n",
      "|        Amsterdam|                22|    3961|\n",
      "+-----------------+------------------+--------+\n",
      "only showing top 20 rows\n",
      "\n"
     ]
    }
   ],
   "source": [
    "citynl.show()"
   ]
  },
  {
   "cell_type": "markdown",
   "metadata": {},
   "source": [
    "Based on the table above, you should choose a city that you want to continue your analysis for. The city should have mulitple neighbourhoods with listings in them.\n",
    "\n",
    "---\n",
    "\n",
    "##### Since we love pizza and pasta, we chose Roma.\n",
    "Now is the time to look more closely at the data concerning the city of Roma.\n",
    "As most of the following queries will concern the city, we built a dataframe that only concerns Roma and the data we are interested in:"
   ]
  },
  {
   "cell_type": "code",
   "execution_count": 12,
   "metadata": {},
   "outputs": [],
   "source": [
    "roma = listings_rep.filter(f.col('city')=='Roma').select('id','neighbourhood_cleansed','property_type'\n",
    "                                                        ,'review_scores_rating','price','reviews_per_month')"
   ]
  },
  {
   "cell_type": "code",
   "execution_count": 13,
   "metadata": {},
   "outputs": [],
   "source": [
    "roma = roma.cache()"
   ]
  },
  {
   "cell_type": "markdown",
   "metadata": {},
   "source": [
    "---\n",
    "\n",
    "Compute and visualize the number of listings of different property types per neighbourhood in your city."
   ]
  },
  {
   "cell_type": "code",
   "execution_count": 12,
   "metadata": {},
   "outputs": [
    {
     "name": "stdout",
     "output_type": "stream",
     "text": [
      "+----------------------+------------------+--------+\n",
      "|neighbourhood_cleansed|     property_type|listings|\n",
      "+----------------------+------------------+--------+\n",
      "|      I Centro Storico|         Apartment|    9309|\n",
      "|  VII San Giovanni/...|         Apartment|    1595|\n",
      "|  II Parioli/Nomentano|         Apartment|    1430|\n",
      "|          XIII Aurelia|         Apartment|    1227|\n",
      "|      I Centro Storico| Bed and breakfast|    1182|\n",
      "|       XII Monte Verde|         Apartment|     976|\n",
      "|  V Prenestino/Cent...|         Apartment|     815|\n",
      "|      I Centro Storico|       Condominium|     679|\n",
      "|     VIII Appia Antica|         Apartment|     543|\n",
      "|      I Centro Storico|Serviced apartment|     530|\n",
      "|      I Centro Storico|              Loft|     397|\n",
      "|       XIV Monte Mario|         Apartment|     377|\n",
      "|          IV Tiburtina|         Apartment|     373|\n",
      "|      I Centro Storico|    Boutique hotel|     333|\n",
      "|  XI Arvalia/Portuense|         Apartment|     330|\n",
      "|      I Centro Storico|             House|     312|\n",
      "|       III Monte Sacro|         Apartment|     272|\n",
      "|    XV Cassia/Flaminia|         Apartment|     247|\n",
      "|  II Parioli/Nomentano|       Condominium|     183|\n",
      "|                IX Eur|         Apartment|     177|\n",
      "+----------------------+------------------+--------+\n",
      "only showing top 20 rows\n",
      "\n"
     ]
    }
   ],
   "source": [
    "roma.groupBy('neighbourhood_cleansed','property_type')\\\n",
    "    .agg(f.countDistinct('id').alias('listings')).orderBy(f.desc('listings')).show()"
   ]
  },
  {
   "cell_type": "markdown",
   "metadata": {},
   "source": [
    "As we are sorting by descending number of listings, we can see that most of them are apartements, although there seems to be quite some choice in the property type."
   ]
  },
  {
   "cell_type": "markdown",
   "metadata": {},
   "source": [
    "---\n",
    "\n",
    "## Prices\n",
    "Compute the minimum, maximum and average listing price in your city. "
   ]
  },
  {
   "cell_type": "markdown",
   "metadata": {},
   "source": [
    "As always, to work on prices, we have to deal with format differences so the first step is always to transform the prices to a standard format.\n",
    "We also import additional libraries for plotting."
   ]
  },
  {
   "cell_type": "code",
   "execution_count": 13,
   "metadata": {},
   "outputs": [],
   "source": [
    "from pyspark.sql.types import DoubleType\n",
    "import pandas as pd\n",
    "import numpy as np\n",
    "import matplotlib.pyplot as plt\n",
    "#we want to make sure that the prices are on the right format\n",
    "def pricetofloat(price):\n",
    "    price=price.replace(',','')\n",
    "    price=price.replace('$','')\n",
    "    return float(price)"
   ]
  },
  {
   "cell_type": "code",
   "execution_count": 52,
   "metadata": {},
   "outputs": [],
   "source": [
    "pricefunc = f.udf(pricetofloat)\n",
    "roma_prices = roma.withColumn('price_double', pricefunc(f.col('price')).cast(DoubleType()))\n",
    "\n",
    "# we filter the prices equal to 0.0, given that that does not exist and that we have enough data.\n",
    "\n",
    "roma_prices = roma_prices.filter(f.col('price_double')!=0.0)"
   ]
  },
  {
   "cell_type": "markdown",
   "metadata": {},
   "source": [
    "After having filtered the prices, we compute the three basic aggregates for our city:"
   ]
  },
  {
   "cell_type": "code",
   "execution_count": 15,
   "metadata": {},
   "outputs": [
    {
     "name": "stdout",
     "output_type": "stream",
     "text": [
      "+-------+-------+------------------+\n",
      "|minimum|maximum|           average|\n",
      "+-------+-------+------------------+\n",
      "|    8.0|11818.0|101.36202751172598|\n",
      "+-------+-------+------------------+\n",
      "\n"
     ]
    }
   ],
   "source": [
    "roma_prices.agg(f.min('price_double').alias('minimum'), f.max('price_double').alias('maximum'), f.avg('price_double').alias('average')).show()"
   ]
  },
  {
   "cell_type": "markdown",
   "metadata": {},
   "source": [
    "The most striking fact that comes with these aggregates is that the scode of the price is immense : we wouldn't have expected it to be more than 10 000$ for sure."
   ]
  },
  {
   "cell_type": "markdown",
   "metadata": {},
   "source": [
    "---\n",
    "\n",
    "Compute and visualize the distribution of listing prices in your city."
   ]
  },
  {
   "cell_type": "markdown",
   "metadata": {},
   "source": [
    "Here, we get the value at the 97% quantile, which we take approximately to make the execution faster\n",
    "We chose this quantile value to remove outliers and get a more representative histogram of the prices."
   ]
  },
  {
   "cell_type": "code",
   "execution_count": 16,
   "metadata": {},
   "outputs": [],
   "source": [
    "upper_price=roma_prices.approxQuantile('price_double',[0.97],0.01)"
   ]
  },
  {
   "cell_type": "code",
   "execution_count": 17,
   "metadata": {},
   "outputs": [
    {
     "data": {
      "text/plain": [
       "399.0"
      ]
     },
     "execution_count": 17,
     "metadata": {},
     "output_type": "execute_result"
    }
   ],
   "source": [
    "float(upper_price[0])"
   ]
  },
  {
   "cell_type": "markdown",
   "metadata": {},
   "source": [
    "Now that we know that 97% of the prices are below 399$, we can filter them out to get our nice graph:"
   ]
  },
  {
   "cell_type": "code",
   "execution_count": 18,
   "metadata": {},
   "outputs": [],
   "source": [
    "prices_roma = roma_prices.filter(f.col('price_double')<float(upper_price[0])).orderBy(f.asc('price_double'))\n",
    "rows = prices_roma.collect()\n",
    "prices_list = list(map(lambda r: r['price_double'], rows))"
   ]
  },
  {
   "cell_type": "code",
   "execution_count": 19,
   "metadata": {},
   "outputs": [
    {
     "data": {
      "image/png": "[encoded data removed]",
      "text/plain": [
       "<Figure size 432x288 with 1 Axes>"
      ]
     },
     "metadata": {
      "needs_background": "light"
     },
     "output_type": "display_data"
    }
   ],
   "source": [
    "plt.hist(prices_list, bins=50)\n",
    "plt.xlabel(\"Price (USD)\")\n",
    "plt.ylabel(\"Nº of listings\")\n",
    "plt.title(\"Distribution of listing prices in Roma\")\n",
    "plt.show()"
   ]
  },
  {
   "cell_type": "markdown",
   "metadata": {},
   "source": [
    "The distribution is about what we could have expected: a kind of normal distribution, that is stretched out to higher prices\n",
    "\n",
    "---\n",
    "\n",
    "Another way to visualise it is to use a boxplot, in order to visualize the 25% and 75% quantile, aswell as the median:"
   ]
  },
  {
   "cell_type": "code",
   "execution_count": 20,
   "metadata": {},
   "outputs": [
    {
     "data": {
      "text/plain": [
       "{'whiskers': [<matplotlib.lines.Line2D at 0x1fe3c1f3748>,\n",
       "  <matplotlib.lines.Line2D at 0x1fe3c1f3b00>],\n",
       " 'caps': [<matplotlib.lines.Line2D at 0x1fe3c1f3e48>,\n",
       "  <matplotlib.lines.Line2D at 0x1fe3c1f3f28>],\n",
       " 'boxes': [<matplotlib.lines.Line2D at 0x1fe3c1f3358>],\n",
       " 'medians': [<matplotlib.lines.Line2D at 0x1fe3c1fb518>],\n",
       " 'fliers': [<matplotlib.lines.Line2D at 0x1fe3c1fb860>],\n",
       " 'means': []}"
      ]
     },
     "execution_count": 20,
     "metadata": {},
     "output_type": "execute_result"
    },
    {
     "data": {
      "image/png": "[encoded data removed]",
      "text/plain": [
       "<Figure size 432x288 with 1 Axes>"
      ]
     },
     "metadata": {
      "needs_background": "light"
     },
     "output_type": "display_data"
    }
   ],
   "source": [
    "plt.boxplot(prices_list, vert=False)"
   ]
  },
  {
   "cell_type": "markdown",
   "metadata": {},
   "source": [
    "Here, the black part represent the outliers. There are only outliers in the higher prices, as we could have guessed with the distribution."
   ]
  },
  {
   "cell_type": "markdown",
   "metadata": {},
   "source": [
    "---\n",
    "\n",
    "The value of a listing is its rating divided by its price.\n",
    "\n",
    "Compute and show a dataframe with the 3 highest valued listings in each neighbourhood."
   ]
  },
  {
   "cell_type": "markdown",
   "metadata": {},
   "source": [
    "To get the value of the listings, and especially to get the 3 highest valued listings in each neighbourhood, we need to use \"advanced\" Spark features, notably the window function that considers each group as a specific dataframe."
   ]
  },
  {
   "cell_type": "code",
   "execution_count": 21,
   "metadata": {},
   "outputs": [],
   "source": [
    "roma_value = roma_prices.filter(f.col('review_scores_rating').isNotNull())\\\n",
    "            .withColumn('review_scores_rating_double', f.col('review_scores_rating').cast(DoubleType()))        "
   ]
  },
  {
   "cell_type": "code",
   "execution_count": 22,
   "metadata": {},
   "outputs": [
    {
     "data": {
      "text/plain": [
       "DataFrame[id: string, neighbourhood_cleansed: string, property_type: string, review_scores_rating: string, price: string, reviews_per_month: string, price_double: double, review_scores_rating_double: double]"
      ]
     },
     "execution_count": 22,
     "metadata": {},
     "output_type": "execute_result"
    }
   ],
   "source": [
    "roma_value = roma_value.na.drop(subset=['review_scores_rating'])\n",
    "roma_value.dropna()"
   ]
  },
  {
   "cell_type": "code",
   "execution_count": 23,
   "metadata": {},
   "outputs": [],
   "source": [
    "roma_value = roma_value.withColumn('listing_value', \n",
    "                                  (f.col('review_scores_rating_double')/f.col('price_double')))"
   ]
  },
  {
   "cell_type": "code",
   "execution_count": 24,
   "metadata": {},
   "outputs": [
    {
     "name": "stdout",
     "output_type": "stream",
     "text": [
      "+--------+----------------------+-----------------+------------+\n",
      "|      id|neighbourhood_cleansed|    listing_value|NeighValRank|\n",
      "+--------+----------------------+-----------------+------------+\n",
      "|24074850|      I Centro Storico|             11.5|           1|\n",
      "|23995680|      I Centro Storico|10.11111111111111|           2|\n",
      "|26277392|      I Centro Storico| 9.11111111111111|           3|\n",
      "|13996664|  II Parioli/Nomentano|              9.9|           1|\n",
      "|37740563|  II Parioli/Nomentano|7.142857142857143|           2|\n",
      "|36806604|  II Parioli/Nomentano|6.666666666666667|           3|\n",
      "|21875866|  II Parioli/Nomentano|6.666666666666667|           3|\n",
      "|27770661|       III Monte Sacro|7.538461538461538|           1|\n",
      "|28181891|       III Monte Sacro|             7.25|           2|\n",
      "|27516839|       III Monte Sacro|7.142857142857143|           3|\n",
      "|35512107|          IV Tiburtina|              7.5|           1|\n",
      "|34384771|          IV Tiburtina|7.083333333333333|           2|\n",
      "|26060047|          IV Tiburtina|              6.4|           3|\n",
      "|10446690|                IX Eur|8.333333333333334|           1|\n",
      "|19429696|                IX Eur|6.666666666666667|           2|\n",
      "| 9704195|                IX Eur|4.894736842105263|           3|\n",
      "|20224908|  V Prenestino/Cent...|             10.0|           1|\n",
      "| 6464305|  V Prenestino/Cent...|              9.6|           2|\n",
      "|20242110|  V Prenestino/Cent...|              8.0|           3|\n",
      "|20827718|   VI Roma delle Torri|8.636363636363637|           1|\n",
      "+--------+----------------------+-----------------+------------+\n",
      "only showing top 20 rows\n",
      "\n"
     ]
    }
   ],
   "source": [
    "sorted_by_value = Window.partitionBy('neighbourhood_cleansed').orderBy(f.desc('listing_value'))\n",
    "\n",
    "ranked_value = roma_value.withColumn('NeighValRank', f.rank().over(sorted_by_value))\n",
    "ranked_value.filter(f.col('NeighValRank') <= 3).orderBy('neighbourhood_cleansed', f.desc('listing_value'))\\\n",
    "        .select(f.col('id'),f.col('neighbourhood_cleansed'),f.col('listing_value'),f.col('NeighValRank')).show()"
   ]
  },
  {
   "cell_type": "markdown",
   "metadata": {},
   "source": [
    "We can see that globaly, the historical center, which is the neighbourhood with the largest amount of listings, also has the highest listing values."
   ]
  },
  {
   "cell_type": "markdown",
   "metadata": {},
   "source": [
    "## Trends\n",
    "Now we want to analyze the \"popularity\" of your city. The data does not contain the number of bookings per listing, but we have a large number of reviews, and we will assume that this is a good indicator of activity on listings."
   ]
  },
  {
   "cell_type": "markdown",
   "metadata": {},
   "source": [
    "In this part, the first challenge is that we have to work with both reviews and listings, and another one would be that we are working over time and not in total, so we need to have a finer analysis."
   ]
  },
  {
   "cell_type": "markdown",
   "metadata": {},
   "source": [
    "Compute and visualize the popularity (i.e., number of reviews) of your city over time."
   ]
  },
  {
   "cell_type": "code",
   "execution_count": 25,
   "metadata": {},
   "outputs": [],
   "source": [
    "reviews_rep=reviews_rep.select(f.col('listing_id'), f.col('id').alias('id_'), f.col('date'),f.col('reviewer_id'),\n",
    "                    f.col('reviewer_name'), f.col('comments'))"
   ]
  },
  {
   "cell_type": "markdown",
   "metadata": {},
   "source": [
    "To link the reviews with the different listings, we join the two tables to create a new dataframe. As the dataframe roma contains less than 100 000 listings and thus less than 100 000 rows whereas reviews is 10Gb, we broadcast roma to gain efficiency."
   ]
  },
  {
   "cell_type": "code",
   "execution_count": 26,
   "metadata": {},
   "outputs": [],
   "source": [
    "reviews_roma=reviews_rep.join(f.broadcast(roma), f.col('listing_id') == f.col('id'), 'inner')\\\n",
    "    .drop('property_type','review_scores_rating','price','reviews_per_month', 'reviewer_id','reviewer_name')"
   ]
  },
  {
   "cell_type": "markdown",
   "metadata": {},
   "source": [
    "To improve performance again, we cache roma's review dataframe as we are going to do many queries with that dataframe."
   ]
  },
  {
   "cell_type": "code",
   "execution_count": 28,
   "metadata": {},
   "outputs": [
    {
     "data": {
      "text/plain": [
       "DataFrame[listing_id: string, id_: string, date: string, comments: string, id: string, neighbourhood_cleansed: string]"
      ]
     },
     "execution_count": 28,
     "metadata": {},
     "output_type": "execute_result"
    }
   ],
   "source": [
    "reviews_roma.cache()"
   ]
  },
  {
   "cell_type": "markdown",
   "metadata": {},
   "source": [
    "To know the boundaries of our plot, we compute aggregates on the date:"
   ]
  },
  {
   "cell_type": "code",
   "execution_count": 29,
   "metadata": {},
   "outputs": [],
   "source": [
    "#reviews_roma.agg(f.min('date'),f.max('date')).show()"
   ]
  },
  {
   "cell_type": "code",
   "execution_count": 30,
   "metadata": {},
   "outputs": [],
   "source": [
    "reviews_roma=reviews_roma.select('id',f.to_date(reviews_roma.date, 'yyyy-MM-dd').alias('date'), 'neighbourhood_cleansed','comments')"
   ]
  },
  {
   "cell_type": "markdown",
   "metadata": {},
   "source": [
    "Here, we sorted the reviews by date in order to have a plot that showed evolution over time.\n",
    "To make the plotting easier, we converted the dataframe to Panda's and then finally plotted with matplotlib."
   ]
  },
  {
   "cell_type": "code",
   "execution_count": 31,
   "metadata": {},
   "outputs": [],
   "source": [
    "reviews_roma_historically = reviews_roma.select(f.date_format(reviews_roma.date,'yyyy-MM').alias('month')).groupby('month').count().sort(f.asc(\"month\"))\n",
    "\n",
    "reviews_roma_historically_pd = reviews_roma_historically.select(\"*\").toPandas()\n",
    "\n",
    "#df.select(F.date_format('timestamp','yyyy-MM').alias('month')).groupby('month').count().show()\n"
   ]
  },
  {
   "cell_type": "code",
   "execution_count": 32,
   "metadata": {},
   "outputs": [
    {
     "data": {
      "text/plain": [
       "<BarContainer object of 112 artists>"
      ]
     },
     "execution_count": 32,
     "metadata": {},
     "output_type": "execute_result"
    },
    {
     "data": {
      "image/png": "[encoded data removed]",
      "text/plain": [
       "<Figure size 1440x360 with 1 Axes>"
      ]
     },
     "metadata": {
      "needs_background": "light"
     },
     "output_type": "display_data"
    }
   ],
   "source": [
    "plt.figure(figsize= [20, 5])\n",
    "plt.xticks(rotation='vertical')\n",
    "plt.bar(reviews_roma_historically_pd['month'],reviews_roma_historically_pd['count'])"
   ]
  },
  {
   "cell_type": "markdown",
   "metadata": {},
   "source": [
    "On this graph, we can see a global upgoing trend aswell as the seasonal variation that we are going to study next."
   ]
  },
  {
   "cell_type": "markdown",
   "metadata": {},
   "source": [
    "---\n",
    "\n",
    "Compute and visualize the popularity of neighbourhoods over time. If there are many neighbourhoods in your city, you should select a few interesting ones for comparison."
   ]
  },
  {
   "cell_type": "code",
   "execution_count": 33,
   "metadata": {},
   "outputs": [],
   "source": [
    "reviews_roma_historically_neigh=reviews_roma.groupBy(f.date_format(reviews_roma.date,'yyyy-MM').alias('month'),'neighbourhood_cleansed')\\\n",
    ".agg(f.countDistinct('id').alias('reviews')).orderBy(f.asc('month'))\n",
    "\n",
    "reviews_roma_historically_neigh_pd=reviews_roma_historically_neigh.toPandas()"
   ]
  },
  {
   "cell_type": "code",
   "execution_count": 34,
   "metadata": {},
   "outputs": [
    {
     "data": {
      "text/plain": [
       "<matplotlib.axes._subplots.AxesSubplot at 0x1fe3c406710>"
      ]
     },
     "execution_count": 34,
     "metadata": {},
     "output_type": "execute_result"
    },
    {
     "data": {
      "image/png": "[encoded data removed]",
      "text/plain": [
       "<Figure size 1080x504 with 1 Axes>"
      ]
     },
     "metadata": {
      "needs_background": "light"
     },
     "output_type": "display_data"
    }
   ],
   "source": [
    "# plot data\n",
    "fig, ax = plt.subplots(figsize=(15,7))\n",
    "# use unstack()\n",
    "reviews_roma_historically_neigh_pd.groupby(['month','neighbourhood_cleansed']).sum()['reviews'].unstack().plot(ax=ax)"
   ]
  },
  {
   "cell_type": "markdown",
   "metadata": {},
   "source": [
    "We chose to plot most neighbourhoods in order to see the difference between the different group of neighbourhoods that appear from this plot:\n",
    "The historical centre that is clearly out of the crowd, then three neighbourhoods (II, III and VII) being very close, and finally the rest being very small compared to those."
   ]
  },
  {
   "cell_type": "markdown",
   "metadata": {},
   "source": [
    "---\n",
    "\n",
    "Compute and visualize the popularity of your city by season. For example, visualize the popularity of your city per month."
   ]
  },
  {
   "cell_type": "code",
   "execution_count": 35,
   "metadata": {
    "scrolled": true
   },
   "outputs": [
    {
     "data": {
      "text/plain": [
       "<BarContainer object of 12 artists>"
      ]
     },
     "execution_count": 35,
     "metadata": {},
     "output_type": "execute_result"
    },
    {
     "data": {
      "image/png": "[encoded data removed]",
      "text/plain": [
       "<Figure size 432x288 with 1 Axes>"
      ]
     },
     "metadata": {
      "needs_background": "light"
     },
     "output_type": "display_data"
    }
   ],
   "source": [
    "\n",
    "month_lst = ['January', 'February', 'March', 'April', 'May', 'June', 'July',\n",
    "             'August', 'September', 'October', 'November', 'December']\n",
    "permonth = reviews_roma.select(f.month('date').alias('permonth')).groupby('permonth').count().sort(f.asc(\"permonth\"))\n",
    "permonth_pd=permonth.select(\"*\").toPandas()\n",
    "plt.xticks(rotation='vertical')\n",
    "plt.bar(month_lst,permonth_pd['count'])\n",
    "\n",
    "\n"
   ]
  },
  {
   "cell_type": "markdown",
   "metadata": {},
   "source": [
    "Here, we can clearly see that for Roma, spring and summer are the most popular seasons. We expected August to be higher as southern cities are usually very popular in the two summer holidays months, but it turns out that more reviews are made in September."
   ]
  },
  {
   "cell_type": "markdown",
   "metadata": {},
   "source": [
    "---\n",
    "\n",
    "## Reviews\n",
    "In this part you should determine which words used in reviews that are the most positive. \n",
    "\n",
    "The individual reviews do not have a rating of the listing, so we will assume that each review gave the average rating to the listing, i.e., the one on the listing.\n",
    "\n",
    "You should assign a positivity weight to each word seen in reviews and list the words with the highest weight. It is up to you to decide what the weight should be. For example, it can be a function of the rating on the listing on which it occurs, the number of reviews it occurs in, and the number of unique listings for which it was used to review.\n",
    "\n",
    "Depending on your choice of weight function, you may also want to do some filtering of words. For example, remove words that only occur in a few reviews."
   ]
  },
  {
   "cell_type": "markdown",
   "metadata": {},
   "source": [
    "---\n",
    "\n",
    "First, we set up the reviews dataframe to improve performance and rename columns to make the future join clearer:"
   ]
  },
  {
   "cell_type": "code",
   "execution_count": 8,
   "metadata": {},
   "outputs": [],
   "source": [
    "reviews_samp = reviews_rep.sample(False, 0.1, 111).cache()"
   ]
  },
  {
   "cell_type": "code",
   "execution_count": 10,
   "metadata": {},
   "outputs": [],
   "source": [
    "reviews_samp = reviews_samp.select(f.col('id').alias('review_id'), f.col('listing_id'), f.col('reviewer_id'), f.col('comments'))"
   ]
  },
  {
   "cell_type": "markdown",
   "metadata": {},
   "source": [
    "Then, we join the reviews with our roma Dataframe, doing a broadcast on roma for the same reasons as before."
   ]
  },
  {
   "cell_type": "code",
   "execution_count": 14,
   "metadata": {},
   "outputs": [],
   "source": [
    "comments_rating = reviews_samp.join(f.broadcast(roma), f.col('listing_id') == f.col('id'), 'inner').drop('property_type','price','reviews_per_month', 'reviewer_id', 'id', 'neighbourhood_cleansed')"
   ]
  },
  {
   "cell_type": "markdown",
   "metadata": {},
   "source": [
    "The comments are written in different alphabets, with numbers, punctuation, any other kind of irrelevent things for our objective, so we define a function that takes the comments and that cleans them to transform then into proper and usable tokens:"
   ]
  },
  {
   "cell_type": "code",
   "execution_count": 49,
   "metadata": {},
   "outputs": [],
   "source": [
    "import re, string, unidecode\n",
    "#from nltk import word_tokenize\n",
    "from nltk.corpus import stopwords\n",
    "\n",
    "stop_words = set(stopwords.words('english'))\n",
    "stop_words.add('amp') # in order to avoid '&amp' symbols\n",
    "\n",
    "def tokenize(text):\n",
    "    text.encode(\"ascii\",\"ignore\")\n",
    "    text = unidecode.unidecode(text) # Remove special characters\n",
    "    text = re.sub(r'\\d+(.\\d+)?', '', text) # Remove numbers\n",
    "    text = text.translate(str.maketrans('', '', string.punctuation)) # Remove punctuation marks\n",
    "    text = re.sub(r' +', ' ', text) # Remove unnecesary whitespaces\n",
    "    text = ' '.join( [w for w in text.split() if len(w)>1] ) # Remove isolated letters\n",
    "    tokens = text.lower().split()\n",
    "    filtered_tokens = []\n",
    "    for w in tokens: \n",
    "        if w not in stop_words: # Filter stop words\n",
    "            filtered_tokens.append(w) \n",
    "    text = ' '.join( [w for w in tokens] )\n",
    "    return text\n",
    "\n",
    "tokenize_udf_ = f.udf(tokenize)"
   ]
  },
  {
   "cell_type": "markdown",
   "metadata": {},
   "source": [
    "To be sure that we have joined the tables properly, we take a look at it:"
   ]
  },
  {
   "cell_type": "code",
   "execution_count": 50,
   "metadata": {},
   "outputs": [],
   "source": [
    "comments_rating = comments_rating.sample(False, 0.1, 111)"
   ]
  },
  {
   "cell_type": "code",
   "execution_count": 51,
   "metadata": {},
   "outputs": [
    {
     "name": "stdout",
     "output_type": "stream",
     "text": [
      "+---------+----------+--------------------+--------------------+--------------------+\n",
      "|review_id|listing_id|            comments|review_scores_rating|              tokens|\n",
      "+---------+----------+--------------------+--------------------+--------------------+\n",
      "|225974649|   3083211|Stylish and fun a...|                  86|stylish and fun a...|\n",
      "|242996262|  15408013|Awesome location....|                  93|awesome location ...|\n",
      "|274458474|   9093125|Valeria's place i...|                  99|valerias place is...|\n",
      "|469217760|   9054578|Excellent place t...|                  87|excellent place t...|\n",
      "| 91155645|   5891255|Stanza e casa bel...|                  90|stanza casa belle...|\n",
      "| 62934349|   4117873|Goffredo is the b...|                  97|goffredo is the b...|\n",
      "|368150377|  19109371|It is right next ...|                  92|it is right next ...|\n",
      "|156297428|   6200807|Very near the Spa...|                  93|very near the spa...|\n",
      "|322476139|  12332765|Location — Perfec...|                  96|location perfect ...|\n",
      "|297013903|  25915526|Host molto dispon...|                  98|host molto dispon...|\n",
      "+---------+----------+--------------------+--------------------+--------------------+\n",
      "only showing top 10 rows\n",
      "\n"
     ]
    }
   ],
   "source": [
    "comments_rating.show(10)"
   ]
  },
  {
   "cell_type": "markdown",
   "metadata": {},
   "source": [
    "Then, we apply the tokenize function to our dataframe by adding a new column:"
   ]
  },
  {
   "cell_type": "code",
   "execution_count": 52,
   "metadata": {},
   "outputs": [],
   "source": [
    "comments_rating = comments_rating.withColumn('tokens', tokenize_udf_(f.col('comments')))"
   ]
  },
  {
   "cell_type": "code",
   "execution_count": 53,
   "metadata": {},
   "outputs": [
    {
     "name": "stdout",
     "output_type": "stream",
     "text": [
      "+---------+----------+--------------------+--------------------+--------------------+\n",
      "|review_id|listing_id|            comments|review_scores_rating|              tokens|\n",
      "+---------+----------+--------------------+--------------------+--------------------+\n",
      "|225974649|   3083211|Stylish and fun a...|                  86|stylish and fun a...|\n",
      "|242996262|  15408013|Awesome location....|                  93|awesome location ...|\n",
      "|274458474|   9093125|Valeria's place i...|                  99|valerias place is...|\n",
      "|469217760|   9054578|Excellent place t...|                  87|excellent place t...|\n",
      "| 91155645|   5891255|Stanza e casa bel...|                  90|stanza casa belle...|\n",
      "| 62934349|   4117873|Goffredo is the b...|                  97|goffredo is the b...|\n",
      "|368150377|  19109371|It is right next ...|                  92|it is right next ...|\n",
      "|156297428|   6200807|Very near the Spa...|                  93|very near the spa...|\n",
      "|322476139|  12332765|Location — Perfec...|                  96|location perfect ...|\n",
      "|297013903|  25915526|Host molto dispon...|                  98|host molto dispon...|\n",
      "+---------+----------+--------------------+--------------------+--------------------+\n",
      "only showing top 10 rows\n",
      "\n"
     ]
    }
   ],
   "source": [
    "comments_rating.show(10)"
   ]
  },
  {
   "cell_type": "markdown",
   "metadata": {},
   "source": [
    "As we are want to look at individual words and not sentences, we use the spark function explode to split our tokenized functions into separate rows:"
   ]
  },
  {
   "cell_type": "code",
   "execution_count": 54,
   "metadata": {},
   "outputs": [],
   "source": [
    "words = comments_rating.withColumn('word', f.explode(f.split(f.col('tokens'),' ')))"
   ]
  },
  {
   "cell_type": "code",
   "execution_count": 55,
   "metadata": {},
   "outputs": [
    {
     "name": "stdout",
     "output_type": "stream",
     "text": [
      "+---------+----------+--------------------+--------------------+--------------------+---------+\n",
      "|review_id|listing_id|            comments|review_scores_rating|              tokens|     word|\n",
      "+---------+----------+--------------------+--------------------+--------------------+---------+\n",
      "|225974649|   3083211|Stylish and fun a...|                  86|stylish and fun a...|  stylish|\n",
      "|225974649|   3083211|Stylish and fun a...|                  86|stylish and fun a...|      and|\n",
      "|225974649|   3083211|Stylish and fun a...|                  86|stylish and fun a...|      fun|\n",
      "|225974649|   3083211|Stylish and fun a...|                  86|stylish and fun a...|apartment|\n",
      "|225974649|   3083211|Stylish and fun a...|                  86|stylish and fun a...|       in|\n",
      "|225974649|   3083211|Stylish and fun a...|                  86|stylish and fun a...|       an|\n",
      "|225974649|   3083211|Stylish and fun a...|                  86|stylish and fun a...| exciting|\n",
      "|225974649|   3083211|Stylish and fun a...|                  86|stylish and fun a...|     area|\n",
      "|225974649|   3083211|Stylish and fun a...|                  86|stylish and fun a...|       of|\n",
      "|225974649|   3083211|Stylish and fun a...|                  86|stylish and fun a...|     rome|\n",
      "+---------+----------+--------------------+--------------------+--------------------+---------+\n",
      "only showing top 10 rows\n",
      "\n"
     ]
    }
   ],
   "source": [
    "words.show(10)"
   ]
  },
  {
   "cell_type": "markdown",
   "metadata": {},
   "source": [
    "And then we only keep the rows that are useful for our analysis:"
   ]
  },
  {
   "cell_type": "code",
   "execution_count": 56,
   "metadata": {},
   "outputs": [
    {
     "data": {
      "text/plain": [
       "DataFrame[review_scores_rating: string, word: string]"
      ]
     },
     "execution_count": 56,
     "metadata": {},
     "output_type": "execute_result"
    }
   ],
   "source": [
    "words = words.drop('review_id','listing_id','comments', 'tokens')\n",
    "words.dropna()\n",
    "words.na.drop()"
   ]
  },
  {
   "cell_type": "code",
   "execution_count": 57,
   "metadata": {},
   "outputs": [
    {
     "name": "stdout",
     "output_type": "stream",
     "text": [
      "+--------------------+----------------+\n",
      "|review_scores_rating|            word|\n",
      "+--------------------+----------------+\n",
      "|                  86|         stylish|\n",
      "|                  86|             and|\n",
      "|                  86|             fun|\n",
      "|                  86|       apartment|\n",
      "|                  86|              in|\n",
      "|                  86|              an|\n",
      "|                  86|        exciting|\n",
      "|                  86|            area|\n",
      "|                  86|              of|\n",
      "|                  86|            rome|\n",
      "|                  93|         awesome|\n",
      "|                  93|        location|\n",
      "|                  93|           right|\n",
      "|                  93|            next|\n",
      "|                  93|            door|\n",
      "|                  93|              to|\n",
      "|                  93|             the|\n",
      "|                  93|         vatican|\n",
      "|                  93|             and|\n",
      "|                  93|           metro|\n",
      "|                  93|            stop|\n",
      "|                  93|            that|\n",
      "|                  93|            will|\n",
      "|                  93|             get|\n",
      "|                  93|             you|\n",
      "|                  93|              to|\n",
      "|                  93|             the|\n",
      "|                  93|   coliseumforum|\n",
      "|                  93|              in|\n",
      "|                  93|          matter|\n",
      "|                  93|              of|\n",
      "|                  93|         minutes|\n",
      "|                  93|       excellent|\n",
      "|                  93|      nontourist|\n",
      "|                  93|     restaurants|\n",
      "|                  93|          within|\n",
      "|                  93|         minutes|\n",
      "|                  93|              of|\n",
      "|                  93|             the|\n",
      "|                  93|       apartment|\n",
      "|                  93|             the|\n",
      "|                  93|         terrace|\n",
      "|                  93|              is|\n",
      "|                  93|    awesomegreat|\n",
      "|                  93|           place|\n",
      "|                  93|             for|\n",
      "|                  93|          coffee|\n",
      "|                  93|             and|\n",
      "|                  93|       breakfast|\n",
      "|                  93|              in|\n",
      "|                  93|             the|\n",
      "|                  93|         morning|\n",
      "|                  93|              or|\n",
      "|                  93|          drinks|\n",
      "|                  93|              in|\n",
      "|                  93|             the|\n",
      "|                  93|afternoonevening|\n",
      "|                  93|            very|\n",
      "|                  93|         safeyou|\n",
      "|                  93|            have|\n",
      "|                  93|              to|\n",
      "|                  93|              go|\n",
      "|                  93|         through|\n",
      "|                  93|          locked|\n",
      "|                  93|            gate|\n",
      "|                  93|             and|\n",
      "|                  93|             two|\n",
      "|                  93|          locked|\n",
      "|                  93|           doors|\n",
      "|                  93|              to|\n",
      "|                  93|             get|\n",
      "|                  93|            into|\n",
      "|                  93|             the|\n",
      "|                  93|       apartment|\n",
      "|                  93|             the|\n",
      "|                  93|            door|\n",
      "|                  93|            lock|\n",
      "|                  93|              to|\n",
      "|                  93|             the|\n",
      "|                  93|       apartment|\n",
      "|                  93|             can|\n",
      "|                  93|              be|\n",
      "|                  93|          little|\n",
      "|                  93|    trickyensure|\n",
      "|                  93|             you|\n",
      "|                  93|            have|\n",
      "|                  93|             the|\n",
      "|                  93|            host|\n",
      "|                  93|            give|\n",
      "|                  93|             you|\n",
      "|                  93|            some|\n",
      "|                  93|        training|\n",
      "|                  93|              on|\n",
      "|                  93|           using|\n",
      "|                  93|              it|\n",
      "|                  93|            also|\n",
      "|                  93|          ensure|\n",
      "|                  93|             you|\n",
      "|                  93|            know|\n",
      "|                  93|           where|\n",
      "+--------------------+----------------+\n",
      "only showing top 100 rows\n",
      "\n"
     ]
    }
   ],
   "source": [
    "words.show(100)"
   ]
  },
  {
   "cell_type": "markdown",
   "metadata": {},
   "source": [
    "Finally, we have to change the type of the scores rating and then do a last clean-up before our data is usable:"
   ]
  },
  {
   "cell_type": "code",
   "execution_count": 58,
   "metadata": {},
   "outputs": [
    {
     "data": {
      "text/plain": [
       "DataFrame[word: string, score: double]"
      ]
     },
     "execution_count": 58,
     "metadata": {},
     "output_type": "execute_result"
    }
   ],
   "source": [
    "words = words.withColumn('score', words['review_scores_rating'].cast(DoubleType()))\n",
    "words = words.drop('review_scores_rating')\n",
    "words.dropna()\n",
    "words.na.drop()"
   ]
  },
  {
   "cell_type": "code",
   "execution_count": 47,
   "metadata": {},
   "outputs": [],
   "source": [
    "def nonasciitoascii(unicodestring):\n",
    "    return unicodestring.encode(\"ascii\",\"ignore\")\n",
    "\n",
    "#Apply this Conversion on the Dataframe\n",
    "convertedudf = f.udf(nonasciitoascii)\n",
    "converted = words.select('word','score').withColumn('words_f',convertedudf(words.word))"
   ]
  },
  {
   "cell_type": "markdown",
   "metadata": {},
   "source": [
    "Once our data is ready, we finally apply our query:\n",
    "What we do is that we take the average score associated with each unique word to know if they were associated with good comments.\n",
    "To avoid too specific words, we only select words that appear a certain amount of times."
   ]
  },
  {
   "cell_type": "code",
   "execution_count": 68,
   "metadata": {},
   "outputs": [
    {
     "name": "stdout",
     "output_type": "stream",
     "text": [
      "+----------+----------+---------+-----------------+\n",
      "|      word|sum(score)|wordcount|       score_word|\n",
      "+----------+----------+---------+-----------------+\n",
      "|    highly|    6757.0|       70|96.52857142857142|\n",
      "|       her|    7710.0|       80|           96.375|\n",
      "|   staying|    5003.0|       52|96.21153846153847|\n",
      "|      here|    5668.0|       59| 96.0677966101695|\n",
      "|     again|    7292.0|       76|95.94736842105263|\n",
      "| beautiful|    5563.0|       58|95.91379310344827|\n",
      "| recommend|   15819.0|      165|95.87272727272727|\n",
      "|   located|    6612.0|       69|95.82608695652173|\n",
      "|everything|   14072.0|      147|95.72789115646259|\n",
      "|   amazing|    7753.0|       81|95.71604938271605|\n",
      "|      will|    7367.0|       77|95.67532467532467|\n",
      "|     about|    7940.0|       83|95.66265060240964|\n",
      "|definitely|    6982.0|       73|95.64383561643835|\n",
      "|      some|    6025.0|       63|95.63492063492063|\n",
      "|      time|   10040.0|      105|95.61904761904762|\n",
      "|       she|   11371.0|      119| 95.5546218487395|\n",
      "|      roma|    5828.0|       61|95.54098360655738|\n",
      "|      back|    5254.0|       55|95.52727272727273|\n",
      "|      than|    4871.0|       51|95.50980392156863|\n",
      "|      well|    9835.0|      103|95.48543689320388|\n",
      "+----------+----------+---------+-----------------+\n",
      "only showing top 20 rows\n",
      "\n"
     ]
    }
   ],
   "source": [
    "words.groupBy('word').agg(f.sum('score'), f.count('word').alias('wordcount'), (f.sum('score')/f.count('word')).alias('score_word'))\\\n",
    ".sort(f.desc('score_word')).where(f.col('wordcount')>50).show()"
   ]
  },
  {
   "cell_type": "markdown",
   "metadata": {},
   "source": [
    "Finally, we obtain our dataset with a score associated to each word.\n",
    "We can see that most of the words that have the highest value are positive, which shows us our query did what we intended.\n",
    "Though, some word seem far too generic, and so the query could be even further improved."
   ]
  }
 ],
 "metadata": {
  "kernelspec": {
   "display_name": "Python 3",
   "language": "python",
   "name": "python3"
  },
  "language_info": {
   "codemirror_mode": {
    "name": "ipython",
    "version": 3
   },
   "file_extension": ".py",
   "mimetype": "text/x-python",
   "name": "python",
   "nbconvert_exporter": "python",
   "pygments_lexer": "ipython3",
   "version": "3.7.3"
  }
 },
 "nbformat": 4,
 "nbformat_minor": 4
}
