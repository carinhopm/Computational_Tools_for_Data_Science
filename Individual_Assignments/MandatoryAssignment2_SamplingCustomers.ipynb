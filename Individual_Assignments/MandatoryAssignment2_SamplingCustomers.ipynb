{
 "cells": [
  {
   "cell_type": "markdown",
   "metadata": {},
   "source": [
    "# Mandatory Assignment 2: Sampling Customers\n",
    "\n",
    "**This is the second of three mandatory assignments to be handed in as part of the assessment for the course 02807 Computational Tools for Data Science at Technical University of Denmark, autumn 2019.**\n",
    "\n",
    "#### Practical info\n",
    "- **The assignment is to be done individually. You are under no circumstances allowed to collaborate with anyone on solving the exercises (cf. the full policy on this on the course website)**\n",
    "- **You must hand in one Jupyter notebook (this notebook) with your solution**\n",
    "- **The hand-in of the notebook is due 2019-11-10, 23:59 on DTU Inside**\n",
    "\n",
    "#### Your solution\n",
    "- **Your solution should be in Python**\n",
    "- **You may use more cells than the provided ones for your answers**\n",
    "- **You should not remove the problem statements**\n",
    "- **Your notebook should be runnable, i.e., clicking [>>] in Jupyter should generate the result that you want to be assessed**"
   ]
  },
  {
   "cell_type": "markdown",
   "metadata": {},
   "source": [
    "---\n",
    "## Introduction\n",
    "When computing group aggregates from a sample, simple random sampling does not give good results. Instead, a representative sample can be obtained by storing each record seen from a sample of the elements we group by. \n",
    "\n",
    "In this assignment you should implement this sampling method on a stream of customer spendings.\n",
    "\n",
    "### Example\n",
    "Suppose you are sampling from a stream of customer spendings. Each element of the stream consists of a customer ID and an amount. For example:\n",
    "\n",
    "`123e4567-e89b-12d3-a456-426655440000 29.99`\n",
    "\n",
    "To obtain a representative sample, you should sample some customer IDs and make sure that every occurrence of the sampled customer IDs are in your final sample. For example, if the customer ID `123e4567-e89b-12d3-a456-426655440000` is among the sampled customer IDs, every element with this ID should be in your sample. "
   ]
  },
  {
   "cell_type": "markdown",
   "metadata": {},
   "source": [
    "## Reading the stream\n",
    "The following code reads a remote file line by line. It is wrapped in a generator to make it easier to extend. You should design your algorithm to read from the generator as a stream. You may extend or modify this to fit your requirements."
   ]
  },
  {
   "cell_type": "code",
   "execution_count": 1,
   "metadata": {},
   "outputs": [],
   "source": [
    "import urllib\n",
    "\n",
    "def stream(n):\n",
    "    i = 0\n",
    "    with urllib.request.urlopen('https://files.dtu.dk/fss/public/link/public/stream/read/spending?linkToken=wkMPLdtDDyvQQw8o&itemName=spending') as f:\n",
    "        for line in f:\n",
    "            element = line.rstrip().decode(\"utf-8\")\n",
    "            yield element\n",
    "            i += 1\n",
    "            if i == n:\n",
    "                break"
   ]
  },
  {
   "cell_type": "code",
   "execution_count": 2,
   "metadata": {},
   "outputs": [],
   "source": [
    "STREAM_SIZE = 1000000\n",
    "customer_stream = stream(STREAM_SIZE)"
   ]
  },
  {
   "cell_type": "markdown",
   "metadata": {},
   "source": [
    "## Exercise 1\n",
    "Implement an algorithm that computes a sample from the stream. The sample must be representative of customers, i.e., you should be able to answer group aggregate questions from it.\n",
    "\n",
    "The sample size should be approximately 10% of the number of elements read from the stream.\n",
    "\n",
    "It is important that your algorithm is a streaming algorithm. This means that your algorithm should update the sample every time an element from the stream is processed, and you should also only process the stream once.\n",
    "\n",
    "### Hints\n",
    "Hint 1: Since simple random sampling is not a good idea, you should not use the reservoir sampling algorithm.\n",
    "\n",
    "Hint 2: The sample does not have to be exactly $k$ elements.\n",
    "\n",
    "Hint 3: You should use a hash function and the fact that it can be used to uniformly map elements from a large universe to a smaller domain. Murmurhash3 (`mmh3`) is a suitable hash function from strings to integers for this."
   ]
  },
  {
   "cell_type": "code",
   "execution_count": 3,
   "metadata": {},
   "outputs": [],
   "source": [
    "import mmh3\n",
    "import numpy as np\n",
    "\n",
    "# Compute average price for customers\n",
    "def compute_avg(customer, price, prev_avg, n, k_array, seeds = [13, 65, 41]):\n",
    "    new = False\n",
    "    k = 0 # Row number for 'k_array'\n",
    "    for seed in seeds: # One seed per 'k_array' row\n",
    "        idx = mmh3.hash(customer, seed=seed, signed=False) % len(k_array[0])\n",
    "        if k_array[k][idx]==0: # New customer\n",
    "            k_array[k][idx] = 1\n",
    "            new = True\n",
    "        k += 1\n",
    "    if new: # New customer\n",
    "        return ((prev_avg * n + float(price)) / (n + 1)), (n + 1), k_array\n",
    "    else: # Existing customer\n",
    "        return ((prev_avg * n + float(price)) / n), n, k_array"
   ]
  },
  {
   "cell_type": "code",
   "execution_count": 4,
   "metadata": {},
   "outputs": [],
   "source": [
    "# Initializing variables\n",
    "avg = 0 # Average value\n",
    "num = 0 # Number of different customers\n",
    "k_array = np.zeros((3,1000)) # 3x1000 array for the Bloom Filter\n",
    "\n",
    "# Reading stream\n",
    "for item in customer_stream:\n",
    "    [customer, price] = item.split()\n",
    "    if (mmh3.hash(customer, seed=37, signed=False) % 10)==0: # Processing only 10% of the customers\n",
    "        avg, num, k_array = compute_avg(customer, price, avg, num, k_array)"
   ]
  },
  {
   "cell_type": "markdown",
   "metadata": {},
   "source": [
    "<span style=\"color:DarkBlue\">The function *compute_avg()* implements a Bloom Filter with 3 k-arrays of 1000bits. The average is updated everytime the function is called (for some customer belonging to the 10% stream sample). The Bloom Filter is used to identify if a customer is new or not. Each k-array is accessed and modified using Murmurhash3 as a hash function (with the customer identifier as input) with a different seed for each one. If a customer exists all the 3 k-arrays must contain a 1 in the positions obtained computing the customer identifier with the three hash functions mentioned."
   ]
  },
  {
   "cell_type": "markdown",
   "metadata": {},
   "source": [
    "## Exercise 2\n",
    "Use the sample obtained in the previous exercise to answer the following question.\n",
    "\n",
    "- What is the average total spending per customer?"
   ]
  },
  {
   "cell_type": "code",
   "execution_count": 5,
   "metadata": {},
   "outputs": [
    {
     "name": "stdout",
     "output_type": "stream",
     "text": [
      "The average total spending per customer is 137269.14\n"
     ]
    }
   ],
   "source": [
    "print(\"The average total spending per customer is \" + str(round(avg, 2)))"
   ]
  },
  {
   "cell_type": "markdown",
   "metadata": {},
   "source": [
    "## Exercise 3\n",
    "Explain why simple random sampling would not give as good an answer to the question in exercise 2 as your new algorithm does.\n",
    "\n",
    "Hint: Look at the distribution of amounts for some customer in your sample."
   ]
  },
  {
   "cell_type": "code",
   "execution_count": 6,
   "metadata": {},
   "outputs": [],
   "source": [
    "import matplotlib.pyplot as plt\n",
    "\n",
    "STREAM_SIZE = 1000\n",
    "customer_stream = stream(STREAM_SIZE)"
   ]
  },
  {
   "cell_type": "code",
   "execution_count": 7,
   "metadata": {},
   "outputs": [],
   "source": [
    "# Reading stream\n",
    "count = {} # Number of purchases per customer\n",
    "amount = {} # Amount spent per customer\n",
    "for item in customer_stream:\n",
    "    [customer, price] = item.split()\n",
    "    if customer not in count.keys():\n",
    "        count[customer] = 1\n",
    "        amount[customer] = float(price)\n",
    "    else:\n",
    "        count[customer] += 1\n",
    "        amount[customer] += float(price)"
   ]
  },
  {
   "cell_type": "code",
   "execution_count": 8,
   "metadata": {
    "scrolled": true
   },
   "outputs": [
    {
     "data": {
      "image/png": "[encoded data removed]",
      "text/plain": [
       "<Figure size 1080x360 with 2 Axes>"
      ]
     },
     "metadata": {
      "needs_background": "light"
     },
     "output_type": "display_data"
    }
   ],
   "source": [
    "# Plotting some data from the stream\n",
    "plt.figure(figsize=(15,5))\n",
    "plt.subplot(1, 2, 1)\n",
    "plt.hist(list(count.values()), )\n",
    "plt.title(\"Histogram of nº of purchases\")\n",
    "plt.xlabel(\"Nº of purchases\")\n",
    "plt.ylabel(\"Nº of customers\")\n",
    "plt.subplot(1, 2, 2)\n",
    "plt.bar(list(amount.keys()), list(amount.values()))\n",
    "plt.xticks([])\n",
    "plt.title(\"Amount spent by each customer\")\n",
    "plt.xlabel(\"Unique customers\")\n",
    "plt.ylabel(\"Amount\")\n",
    "plt.show()"
   ]
  },
  {
   "cell_type": "markdown",
   "metadata": {},
   "source": [
    "<span style=\"color:DarkBlue\">It can be checked in the upper plots that the total amount spent by each customer is very different and also the number of purchases made by each of them. Performing a random sampling is nice to compute the average amount for each purchase, but it's not a good choice to compute other statistics as the average total spending per customer. To calculate statistics for each customer it's necessary to track all the purchases for a representative group of customers. In this assigment 10% of customers from the stream have been selected and all their purchases have been taken into account."
   ]
  }
 ],
 "metadata": {
  "kernelspec": {
   "display_name": "Python 3",
   "language": "python",
   "name": "python3"
  },
  "language_info": {
   "codemirror_mode": {
    "name": "ipython",
    "version": 3
   },
   "file_extension": ".py",
   "mimetype": "text/x-python",
   "name": "python",
   "nbconvert_exporter": "python",
   "pygments_lexer": "ipython3",
   "version": "3.7.3"
  }
 },
 "nbformat": 4,
 "nbformat_minor": 2
}
